{
 "cells": [
  {
   "cell_type": "markdown",
   "metadata": {},
   "source": [
    "# Advent of Code\n",
    "\n",
    "### Setup"
   ]
  },
  {
   "cell_type": "code",
   "execution_count": 1,
   "metadata": {},
   "outputs": [],
   "source": [
    "### Imports go here\n",
    "import re\n",
    "import pandas as pd"
   ]
  },
  {
   "cell_type": "markdown",
   "metadata": {},
   "source": [
    "## Day 1\n",
    "\n",
    "### Puzzle 1\n",
    "\n",
    "For each line, combine the first and last digit in the line (could be the same one) to create a 2 digit number. Add up all numbers to receive the result."
   ]
  },
  {
   "cell_type": "code",
   "execution_count": 8,
   "metadata": {},
   "outputs": [],
   "source": [
    "file = open('data/day_1_input.txt', 'r')\n",
    "codewords = file.read().split()\n",
    "file.close()"
   ]
  },
  {
   "cell_type": "code",
   "execution_count": 19,
   "metadata": {},
   "outputs": [
    {
     "name": "stdout",
     "output_type": "stream",
     "text": [
      "54968\n"
     ]
    }
   ],
   "source": [
    "result = 0\n",
    "for line in codewords:\n",
    "    digits = re.sub('\\D', '', line)\n",
    "    result += 10 * int(digits[0])\n",
    "    result += int(digits[-1])\n",
    "\n",
    "print(result)"
   ]
  },
  {
   "cell_type": "markdown",
   "metadata": {},
   "source": [
    "### Puzzle 2\n",
    "\n",
    "Include spelled out values ('one', 'two' etc.) in the calculations from puzzle 1"
   ]
  },
  {
   "cell_type": "code",
   "execution_count": 33,
   "metadata": {},
   "outputs": [],
   "source": [
    "numbers = {\n",
    "    'one':'1',\n",
    "    'two':'2',\n",
    "    'three':'3',\n",
    "    'four':'4',\n",
    "    'five':'5',\n",
    "    'six':'6',\n",
    "    'seven':'7',\n",
    "    'eight':'8',\n",
    "    'nine':'9',\n",
    "    '1':'1',\n",
    "    '2':'2',\n",
    "    '3':'3',\n",
    "    '4':'4',\n",
    "    '5':'5',\n",
    "    '6':'6',\n",
    "    '7':'7',\n",
    "    '8':'8',\n",
    "    '9':'9'\n",
    "}"
   ]
  },
  {
   "cell_type": "code",
   "execution_count": 35,
   "metadata": {},
   "outputs": [
    {
     "name": "stdout",
     "output_type": "stream",
     "text": [
      "54094\n"
     ]
    }
   ],
   "source": [
    "result = 0\n",
    "\n",
    "for line in codewords:\n",
    "    digits = ''\n",
    "    for i in range(0,len(line)):\n",
    "        linepart = line[i:]\n",
    "        for key in numbers.keys():\n",
    "            if linepart.startswith(key):\n",
    "                digits = digits + numbers[key]\n",
    "    result += 10 * int(digits[0])\n",
    "    result += int(digits[-1])\n",
    "    \n",
    "print(result)"
   ]
  },
  {
   "cell_type": "markdown",
   "metadata": {},
   "source": [
    "## Day 2\n",
    "\n",
    "### Puzzle 1\n",
    "\n",
    "- Each game, a random number of red, green and blue cubes are placed in a bag.\n",
    "- Several times, a random number of cubes is drawn and shown to the user (separated by semicolons)\n",
    "\n",
    "##### Task:\n",
    "\n",
    "Determine which game results are possible with a bag that contains 12 red, 13 green and 14 blue cubes, and sum up the game IDs"
   ]
  },
  {
   "cell_type": "code",
   "execution_count": 4,
   "metadata": {},
   "outputs": [],
   "source": [
    "file = open('data/day_2_input.txt', 'r')\n",
    "cubegames = file.read().splitlines()\n",
    "file.close()"
   ]
  },
  {
   "cell_type": "code",
   "execution_count": 18,
   "metadata": {},
   "outputs": [
    {
     "name": "stdout",
     "output_type": "stream",
     "text": [
      "2256\n"
     ]
    }
   ],
   "source": [
    "result = 0\n",
    "\n",
    "# Parse lines\n",
    "for line in cubegames:\n",
    "    gameID = int(line.split(':')[0][5:])\n",
    "    green = True\n",
    "    red = True\n",
    "    blue = True\n",
    "    \n",
    "    rounds = line.split(':')[1].split(';')\n",
    "    \n",
    "    # go through each round of the game\n",
    "    for round in rounds:\n",
    "        cubenumbers = round.strip().split(', ')\n",
    "        for cube in cubenumbers:\n",
    "            number = int(cube.split()[0])\n",
    "            color = cube.split()[1]\n",
    "\n",
    "            # check each color\n",
    "            if color == 'red':\n",
    "                if number > 12:\n",
    "                    red = False\n",
    "            elif color == 'green':\n",
    "                if number > 13:\n",
    "                    green = False\n",
    "            else:\n",
    "                if number > 14:\n",
    "                    blue = False\n",
    "    \n",
    "    # check if conditions were met\n",
    "    if green and red and blue:\n",
    "        result += gameID\n",
    "\n",
    "print(result)\n",
    "\n",
    "    "
   ]
  },
  {
   "cell_type": "markdown",
   "metadata": {},
   "source": [
    "### Puzzle 2\n",
    "\n",
    "For each game, find the minimum number of cubes that needed to be in the bag for the game to be possible. \n",
    "\n",
    "Multiply the number for the three colors, and find the sum for all games"
   ]
  },
  {
   "cell_type": "code",
   "execution_count": 23,
   "metadata": {},
   "outputs": [
    {
     "name": "stdout",
     "output_type": "stream",
     "text": [
      "74229\n"
     ]
    }
   ],
   "source": [
    "result = 0\n",
    "\n",
    "# Parse lines\n",
    "for line in cubegames:\n",
    "    green = 0\n",
    "    red = 0\n",
    "    blue = 0\n",
    "    \n",
    "    rounds = line.split(':')[1].split(';')\n",
    "\n",
    "    # go through each round of the game\n",
    "    for round in rounds:\n",
    "        cubenumbers = round.strip().split(', ')\n",
    "        for cube in cubenumbers:\n",
    "            number = int(cube.split()[0])\n",
    "            color = cube.split()[1]\n",
    "\n",
    "            # check each color\n",
    "            if color == 'red':\n",
    "                red = max(number, red)\n",
    "            elif color == 'green':\n",
    "                green = max(number, green)\n",
    "            else:\n",
    "                blue = max(number, blue)\n",
    "    \n",
    "    # multiply and add results\n",
    "    result += (red * green * blue)\n",
    "\n",
    "print(result)"
   ]
  },
  {
   "cell_type": "markdown",
   "metadata": {},
   "source": [
    "## Day 3\n",
    "\n",
    "### Puzzle 1\n",
    "\n",
    "The input file contains a \"matrix\" of numbers, symbols and periods. Only numbers that are adjacent, above or below (including diagonally) to a symbol are valid.\n",
    "\n",
    "##### Task:\n",
    "Find the sum of all valid numbers"
   ]
  },
  {
   "cell_type": "code",
   "execution_count": 26,
   "metadata": {},
   "outputs": [],
   "source": [
    "file = open('data/day_3_input.txt', 'r')\n",
    "engine = file.read().splitlines()\n",
    "file.close()"
   ]
  },
  {
   "cell_type": "code",
   "execution_count": 65,
   "metadata": {},
   "outputs": [],
   "source": [
    "symbols = []\n",
    "numbers = []\n",
    "gears = []\n",
    "\n",
    "for y, line in enumerate(engine):\n",
    "    x = 0\n",
    "    while x < len(line):\n",
    "        if line[x] == '.':\n",
    "            x += 1\n",
    "        elif line[x].isnumeric():\n",
    "            if line[x + 1].isnumeric():\n",
    "                if line[x + 2].isnumeric():\n",
    "                    numbers.append([int(line[x:x+3]), y, x, 3])\n",
    "                    x += 3\n",
    "                else: \n",
    "                    numbers.append([int(line[x:x+2]), y, x, 2])\n",
    "                    x += 2\n",
    "            else: \n",
    "                numbers.append([int(line[x]), y, x, 1])\n",
    "                x += 1\n",
    "        elif line[x] == '*':\n",
    "            gears.append((y,x))\n",
    "            symbols.append((y,x))\n",
    "            x += 1\n",
    "        else:\n",
    "            symbols.append((y,x))\n",
    "            x += 1"
   ]
  },
  {
   "cell_type": "code",
   "execution_count": 62,
   "metadata": {},
   "outputs": [],
   "source": [
    "#check surroundings for symbols based on coordinates and length\n",
    "def check_surrounding(y,x,l):\n",
    "    xmin = max(0,x - 1)\n",
    "    xmax = x + l\n",
    "    ymin = max(0,y - 1)\n",
    "    ymax = min(len(engine), y + 1)\n",
    "\n",
    "    symbol_found = False\n",
    "\n",
    "    # iterate over all possibilities\n",
    "    for x_val in range(xmin, xmax + 1):\n",
    "        for y_val in range(ymin, ymax + 1):\n",
    "            if (y_val, x_val) in symbols:\n",
    "                symbol_found = True\n",
    "\n",
    "    return symbol_found"
   ]
  },
  {
   "cell_type": "code",
   "execution_count": 66,
   "metadata": {},
   "outputs": [
    {
     "name": "stdout",
     "output_type": "stream",
     "text": [
      "539433\n"
     ]
    }
   ],
   "source": [
    "result = 0\n",
    "\n",
    "for n in numbers:\n",
    "        if check_surrounding(n[1],n[2],n[3]):\n",
    "                result += n[0]\n",
    "\n",
    "print(result)"
   ]
  },
  {
   "cell_type": "markdown",
   "metadata": {},
   "source": [
    "### Puzzle 2\n",
    "\n",
    "A gear is a * symbol that connects to exactly two numbers. The gear ratio is the product of both numbers.\n",
    "\n",
    "##### Task\n",
    "\n",
    "Calculate the sum of all gear ratios"
   ]
  },
  {
   "cell_type": "code",
   "execution_count": 78,
   "metadata": {},
   "outputs": [],
   "source": [
    "# A new version of the check_surrounding() function is necessary\n",
    "\n",
    "connections = {}\n",
    "\n",
    "def check_gears(n):\n",
    "    xmin = max(0,n[2] - 1)\n",
    "    xmax = n[2] + n[3]\n",
    "    ymin = max(0,n[1] - 1)\n",
    "    ymax = min(len(engine), n[1] + 1)\n",
    "\n",
    "    # iterate over all possibilities\n",
    "    for x_val in range(xmin, xmax + 1):\n",
    "        for y_val in range(ymin, ymax + 1):\n",
    "            if (y_val, x_val) in gears:\n",
    "                i = gears.index((y_val, x_val))\n",
    "                parts = connections.get(i, [])\n",
    "                parts.append(n[0])\n",
    "                connections[i] = parts\n",
    "\n",
    "for n in numbers:\n",
    "    check_gears(n)"
   ]
  },
  {
   "cell_type": "code",
   "execution_count": 82,
   "metadata": {},
   "outputs": [
    {
     "name": "stdout",
     "output_type": "stream",
     "text": [
      "75847567\n"
     ]
    }
   ],
   "source": [
    "result = 0\n",
    "\n",
    "# Only use gears with exactly two connections\n",
    "\n",
    "for gear in connections.values():\n",
    "    if len(gear) == 2:\n",
    "        ratio = gear[0] * gear[1]\n",
    "        result += ratio\n",
    "\n",
    "print(result)"
   ]
  },
  {
   "cell_type": "markdown",
   "metadata": {},
   "source": [
    "## Day 5\n",
    "\n",
    "### Puzzle 1\n",
    "\n",
    "Each card has numbers before and after the '|' symbol. Find how many numbers appear on both sides. Card value is 2**(n-1) where n is the amount of matching numbers\n"
   ]
  },
  {
   "cell_type": "code",
   "execution_count": 1,
   "metadata": {},
   "outputs": [],
   "source": [
    "file = open('data/day_4_input.txt', 'r')\n",
    "cards = file.read().splitlines()\n",
    "file.close()"
   ]
  },
  {
   "cell_type": "code",
   "execution_count": 21,
   "metadata": {},
   "outputs": [
    {
     "data": {
      "text/plain": [
       "26443"
      ]
     },
     "execution_count": 21,
     "metadata": {},
     "output_type": "execute_result"
    }
   ],
   "source": [
    "result = 0\n",
    "winning_numbers = []\n",
    "\n",
    "for card in cards:\n",
    "    numbers = card.split(': ')[1].split(' | ')\n",
    "    left = set(numbers[0].split())\n",
    "    right = set(numbers[1].split())\n",
    "\n",
    "    winning_nrs = len(left.intersection(right))\n",
    "    winning_numbers.append(winning_nrs)\n",
    "    if winning_nrs > 0:\n",
    "        points = 2**(winning_nrs - 1)\n",
    "        result += points\n",
    "        \n",
    "\n",
    "result\n"
   ]
  },
  {
   "cell_type": "markdown",
   "metadata": {},
   "source": [
    "### Puzzle 2"
   ]
  },
  {
   "cell_type": "code",
   "execution_count": 23,
   "metadata": {},
   "outputs": [],
   "source": [
    "def recursive_cards(i):\n",
    "    result = 1\n",
    "    \n",
    "    if winning_numbers[i] > 0:\n",
    "        for j in range(i + 1, i + winning_numbers[i] + 1):\n",
    "            result += recursive_cards(j)\n",
    "    \n",
    "    return result"
   ]
  },
  {
   "cell_type": "code",
   "execution_count": 25,
   "metadata": {},
   "outputs": [
    {
     "data": {
      "text/plain": [
       "6284877"
      ]
     },
     "execution_count": 25,
     "metadata": {},
     "output_type": "execute_result"
    }
   ],
   "source": [
    "result = 0\n",
    "for i in range (0, len(winning_numbers)):\n",
    "    result += recursive_cards(i)\n",
    "\n",
    "result"
   ]
  },
  {
   "cell_type": "markdown",
   "metadata": {},
   "source": [
    "## Day 5\n",
    "\n",
    "### Puzzle 1\n",
    "\n",
    "The input contains mappings in the format \"a b c\" where a is the start of the source range, b is the start of the target range, and c is the range, meaning `[a:a+c]` get mapped to `[b:b+c]`\n",
    "\n",
    "##### Task\n",
    "\n",
    "Map the seed numbers through all the maps and find the lowest resulting number"
   ]
  },
  {
   "cell_type": "code",
   "execution_count": 3,
   "metadata": {},
   "outputs": [],
   "source": [
    "file = open('data/day_5_input.txt', 'r')\n",
    "almanach = file.read().strip().split('\\n\\n')\n",
    "file.close()"
   ]
  },
  {
   "cell_type": "markdown",
   "metadata": {},
   "source": [
    " ##### Parse input"
   ]
  },
  {
   "cell_type": "code",
   "execution_count": 4,
   "metadata": {},
   "outputs": [],
   "source": [
    "seeds = [int(x) for x in almanach[0].split(' ')[1:]]\n",
    "\n",
    "maps = []\n",
    "for page in almanach[1:]:\n",
    "    map_raw = page.split('\\n')[1:]\n",
    "\n",
    "    this_map = []\n",
    "    for mapping in map_raw:\n",
    "\n",
    "        # I'm reordering the map because it makes more sense in my head and makes sorting by source easier\n",
    "        map = [int(x) for x in  mapping.split()]\n",
    "        this_map.append([map[1],map[0],map[2]])\n",
    "    \n",
    "    this_map.sort()\n",
    "    maps.append(this_map)"
   ]
  },
  {
   "cell_type": "markdown",
   "metadata": {},
   "source": [
    "##### Create mapping function"
   ]
  },
  {
   "cell_type": "code",
   "execution_count": 3,
   "metadata": {},
   "outputs": [],
   "source": [
    "def map_digit(digit, map):\n",
    "    \n",
    "    i = 0\n",
    "    while (i + 1 < len(map)) and (map[i+1][0] <= digit):\n",
    "        i += 1\n",
    "\n",
    "    if (map[i][0] <= digit) and (map[i][0] + map[i][2] > digit):\n",
    "        return digit - map[i][0] + map[i][1]\n",
    "    else:\n",
    "        return digit"
   ]
  },
  {
   "cell_type": "code",
   "execution_count": 4,
   "metadata": {},
   "outputs": [
    {
     "name": "stdout",
     "output_type": "stream",
     "text": [
      "218513636\n"
     ]
    }
   ],
   "source": [
    "locations = []\n",
    "\n",
    "for seed in seeds:\n",
    "    digit = seed\n",
    "    for map in maps:\n",
    "        digit = map_digit(digit, map)\n",
    "\n",
    "    locations.append(digit)\n",
    "\n",
    "print(min(locations))"
   ]
  },
  {
   "cell_type": "markdown",
   "metadata": {},
   "source": [
    "### Puzzle 2\n",
    "\n",
    "Treat the seed numbers instead as pairs of initial numbers and a range.\n",
    "\n",
    "##### Task:\n",
    "\n",
    "Find the smallest location number based on the new seed numbers"
   ]
  },
  {
   "cell_type": "code",
   "execution_count": 18,
   "metadata": {},
   "outputs": [],
   "source": [
    "# going through all ranges one by one will take too long, but maybe we can take shortcuts\n",
    "# instead of calculating the mapping of a single digit, let's try calculating the mapping of a range\n",
    "\n",
    "def map_range(range, map):\n",
    "    \n",
    "    new_ranges = []\n",
    "\n",
    "    # setup variables\n",
    "    range_start = range[0]\n",
    "    remaining_range = range[1]\n",
    "\n",
    "    # start a loop\n",
    "    # find right mapping in map\n",
    "    i = 0\n",
    "\n",
    "    while(True):\n",
    "        while (i + 1 < len(map)) and (map[i+1][0] <= range_start):\n",
    "            i += 1\n",
    "\n",
    "        # if range start falls within range in the mapping\n",
    "        if (map[i][0] <= range_start) and (map[i][0] + map[i][2] > range_start):\n",
    "\n",
    "            # see how far the mapping range goes\n",
    "            # if it is shorter than the remaining range of the digit:\n",
    "            if map[i][0] + map[i][2] < range_start + remaining_range:\n",
    "                \n",
    "                overlap_length = map[i][0] + map[i][2] - range_start\n",
    "\n",
    "                # add overlapping range to new_ranges \n",
    "                new_ranges.append(range_start - map[i][0] + map[i][1])\n",
    "                new_ranges.append(overlap_length)\n",
    "\n",
    "                # update range_start and remaining_range\n",
    "                range_start = range_start + overlap_length \n",
    "                remaining_range = remaining_range - overlap_length\n",
    "\n",
    "            # if it is not shorter we are done\n",
    "            else:\n",
    "                new_ranges.append(range_start - map[i][0] + map[i][1])\n",
    "                new_ranges.append(remaining_range)\n",
    "                return new_ranges\n",
    "            \n",
    "        # if range start does not fall within range in the mapping\n",
    "        # check if there is overlap with the next mapping\n",
    "        elif (i + 1 < len(map)) and (map[i+1][0] < range_start + remaining_range):\n",
    "\n",
    "            non_overlap_length = map[i+ 1][0] - range_start\n",
    "\n",
    "            # add non-overlapping range to new_ranges\n",
    "            new_ranges.append(range_start)\n",
    "            new_ranges.append(non_overlap_length)\n",
    "\n",
    "            # update range_start and remaining_range\n",
    "            range_start = range_start + non_overlap_length \n",
    "            remaining_range = remaining_range - non_overlap_length\n",
    "\n",
    "        # if there is no overlap with the next mapping we are done\n",
    "        else:\n",
    "            new_ranges.append(range_start)\n",
    "            new_ranges.append(remaining_range)\n",
    "            return new_ranges"
   ]
  },
  {
   "cell_type": "code",
   "execution_count": 21,
   "metadata": {},
   "outputs": [
    {
     "name": "stdout",
     "output_type": "stream",
     "text": [
      "81956384\n"
     ]
    }
   ],
   "source": [
    "current_ranges = seeds\n",
    "for map in maps:\n",
    "    new_ranges = []\n",
    "    for i in range(0,len(current_ranges),2):\n",
    "        new_ranges.extend(map_range(current_ranges[i:i+2], map))\n",
    "    current_ranges = new_ranges\n",
    "    new_ranges = []\n",
    "\n",
    "print(min(current_ranges[::2]))"
   ]
  }
 ],
 "metadata": {
  "kernelspec": {
   "display_name": "ds_toolkit",
   "language": "python",
   "name": "python3"
  },
  "language_info": {
   "codemirror_mode": {
    "name": "ipython",
    "version": 3
   },
   "file_extension": ".py",
   "mimetype": "text/x-python",
   "name": "python",
   "nbconvert_exporter": "python",
   "pygments_lexer": "ipython3",
   "version": "3.10.12"
  }
 },
 "nbformat": 4,
 "nbformat_minor": 2
}
